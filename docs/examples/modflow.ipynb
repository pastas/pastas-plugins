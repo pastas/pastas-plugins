{
 "cells": [
  {
   "cell_type": "markdown",
   "metadata": {},
   "source": [
    "# Using a Modflow model as a stressmodel in Pastas\n",
    "\n",
    "This notebook shows how to use a simple Modflow model as stress model in Pastas."
   ]
  },
  {
   "cell_type": "markdown",
   "metadata": {},
   "source": [
    "## Packages"
   ]
  },
  {
   "cell_type": "code",
   "execution_count": null,
   "metadata": {},
   "outputs": [],
   "source": [
    "import os\n",
    "\n",
    "import flopy\n",
    "import pandas as pd\n",
    "import pastas as ps\n",
    "from pastas.timer import SolveTimer\n",
    "\n",
    "import pastas_plugins.modflow as ppmf\n",
    "\n",
    "ps.set_log_level(\"ERROR\")"
   ]
  },
  {
   "cell_type": "markdown",
   "metadata": {},
   "source": [
    "## Download MODFLOW executable"
   ]
  },
  {
   "cell_type": "code",
   "execution_count": null,
   "metadata": {},
   "outputs": [],
   "source": [
    "bindir = \"bin\"\n",
    "mf6_exe = os.path.join(bindir, \"mf6.exe\")\n",
    "if not os.path.isfile(mf6_exe):\n",
    "    if not os.path.isdir(bindir):\n",
    "        os.makedirs(bindir)\n",
    "    flopy.utils.get_modflow(\"bin\", repo=\"modflow6\")"
   ]
  },
  {
   "cell_type": "markdown",
   "metadata": {},
   "source": [
    "## Data"
   ]
  },
  {
   "cell_type": "code",
   "execution_count": null,
   "metadata": {},
   "outputs": [],
   "source": [
    "# %%\n",
    "tmin = pd.Timestamp(\"2001-01-01\")\n",
    "tmax = pd.Timestamp(\"2014-12-31\")\n",
    "\n",
    "tmin_wu = tmin - pd.Timedelta(days=3651)\n",
    "tmin_wu = pd.Timestamp(\"1986-01-01\")\n",
    "\n",
    "head = (\n",
    "    pd.read_csv(\n",
    "        \"https://raw.githubusercontent.com/pastas/pastas/master/doc/examples/data/head_nb1.csv\",\n",
    "        index_col=\"date\",\n",
    "        parse_dates=True,\n",
    "    )\n",
    "    .squeeze()\n",
    "    .loc[tmin:tmax]\n",
    ")\n",
    "prec = (\n",
    "    pd.read_csv(\n",
    "        \"https://raw.githubusercontent.com/pastas/pastas/master/doc/examples/data/rain_nb1.csv\",\n",
    "        index_col=\"date\",\n",
    "        parse_dates=True,\n",
    "    )\n",
    "    .squeeze()\n",
    "    .loc[tmin_wu:tmax]\n",
    ")\n",
    "evap = (\n",
    "    pd.read_csv(\n",
    "        \"https://raw.githubusercontent.com/pastas/pastas/master/doc/examples/data/evap_nb1.csv\",\n",
    "        index_col=\"date\",\n",
    "        parse_dates=True,\n",
    "    )\n",
    "    .squeeze()\n",
    "    .loc[tmin_wu:tmax]\n",
    ")\n",
    "\n",
    "ps.plots.series(head, [prec, evap], hist=False);"
   ]
  },
  {
   "cell_type": "markdown",
   "metadata": {},
   "source": [
    "## Time series models\n",
    "\n",
    "### Standard exponential model"
   ]
  },
  {
   "cell_type": "code",
   "execution_count": null,
   "metadata": {},
   "outputs": [],
   "source": [
    "# %%\n",
    "# create model with exponential response function\n",
    "mlexp = ps.Model(head)\n",
    "mlexp.add_stressmodel(\n",
    "    ps.RechargeModel(prec=prec, evap=evap, rfunc=ps.Exponential(), name=\"test_exp\")\n",
    ")\n",
    "mlexp.solve(tmin=tmin, tmax=tmax)\n",
    "mlexp.plot();"
   ]
  },
  {
   "cell_type": "markdown",
   "metadata": {},
   "source": [
    "### Uncalibrated MODFLOW time series model\n",
    "\n",
    "Using parameters based on the Pastas Exponential model."
   ]
  },
  {
   "cell_type": "code",
   "execution_count": null,
   "metadata": {},
   "outputs": [],
   "source": [
    "# %%\n",
    "# extract resistance and sy from exponential model\n",
    "# transform exponential parameters to modflow resistance and sy\n",
    "mlexp_c = mlexp.parameters.loc[\"test_exp_A\", \"optimal\"]\n",
    "mlexp_c_i = mlexp.parameters.loc[\"test_exp_A\", \"initial\"]\n",
    "mlexp_sy = (\n",
    "    mlexp.parameters.loc[\"test_exp_a\", \"optimal\"]\n",
    "    / mlexp.parameters.loc[\"test_exp_A\", \"optimal\"]\n",
    ")\n",
    "mlexp_sy_i = (\n",
    "    mlexp.parameters.loc[\"test_exp_a\", \"initial\"]\n",
    "    / mlexp.parameters.loc[\"test_exp_A\", \"initial\"]\n",
    ")\n",
    "mlexp_d = mlexp.parameters.loc[\"constant_d\", \"optimal\"]\n",
    "mlexp_d_i = mlexp.parameters.loc[\"constant_d\", \"initial\"]\n",
    "mlexp_f = mlexp.parameters.loc[\"test_exp_f\", \"optimal\"]\n",
    "mlexp_f_i = mlexp.parameters.loc[\"test_exp_f\", \"initial\"]"
   ]
  },
  {
   "cell_type": "code",
   "execution_count": null,
   "metadata": {},
   "outputs": [],
   "source": [
    "# create modflow pastas model with c and sy\n",
    "mlexpmf = ps.Model(head)\n",
    "# shorten the warmup to speed up the modflow calculation somewhat.\n",
    "mlexpmf.settings[\"warmup\"] = pd.Timedelta(days=4 * 365)\n",
    "expmf = ppmf.ModflowRch(exe_name=mf6_exe, sim_ws=\"mf_files/test_expmf\")\n",
    "expsm = ppmf.ModflowModel([prec, evap], modflow=expmf, name=\"test_expmfsm\")\n",
    "mlexpmf.add_stressmodel(expsm)\n",
    "mlexpmf.set_parameter(f\"{expsm.name}_sy\", initial=mlexp_sy, vary=False)\n",
    "mlexpmf.set_parameter(f\"{expsm.name}_c\", initial=mlexp_c, vary=False)\n",
    "mlexpmf.set_parameter(f\"{expsm.name}_f\", initial=mlexp_f, vary=False)\n",
    "mlexpmf.set_parameter(\"constant_d\", initial=mlexp_d, vary=False)\n",
    "# mlexpmf.solve()\n",
    "mlexpmf.plot(tmin=head.index[0]);"
   ]
  },
  {
   "cell_type": "markdown",
   "metadata": {},
   "source": [
    "## Calibrated MODFLOW time series model\n",
    "\n",
    "Now fit a Pastas Model using the Modflow model as a response function. This takes some\n",
    "time, as the modflow model has to be recomputed for every iteration in the optimization\n",
    "process."
   ]
  },
  {
   "cell_type": "code",
   "execution_count": null,
   "metadata": {},
   "outputs": [],
   "source": [
    "ml = ps.Model(head)\n",
    "# shorten the warmup to speed up the modflow calculation somewhat.\n",
    "ml.settings[\"warmup\"] = pd.Timedelta(days=4 * 365)\n",
    "mf = ppmf.ModflowRch(exe_name=mf6_exe, sim_ws=\"mf_files/test_mfrch\")\n",
    "sm = ppmf.ModflowModel([prec, evap], modflow=mf, name=\"test_mfsm\")\n",
    "ml.add_stressmodel(sm)\n",
    "ml.set_parameter(f\"{sm.name}_sy\", initial=mlexp_sy_i, vary=True)\n",
    "ml.set_parameter(f\"{sm.name}_c\", initial=mlexp_c_i, vary=True)\n",
    "ml.set_parameter(f\"{sm.name}_f\", initial=mlexp_f_i, vary=True)\n",
    "ml.set_parameter(\"constant_d\", initial=mlexp_d_i, vary=True)\n",
    "\n",
    "with SolveTimer() as st:\n",
    "    ml.solve(callback=st.timer, fit_constant=False)"
   ]
  },
  {
   "cell_type": "code",
   "execution_count": null,
   "metadata": {},
   "outputs": [],
   "source": [
    "ml.plot();"
   ]
  },
  {
   "cell_type": "markdown",
   "metadata": {},
   "source": [
    "## Results\n",
    "\n",
    "### Parameters"
   ]
  },
  {
   "cell_type": "code",
   "execution_count": null,
   "metadata": {},
   "outputs": [],
   "source": [
    "ml.parameters.style.set_table_attributes('style=\"font-size: 12px\"').set_caption(\n",
    "    \"Pastas-Modflow\"\n",
    ")"
   ]
  },
  {
   "cell_type": "code",
   "execution_count": null,
   "metadata": {},
   "outputs": [],
   "source": [
    "mlexp.parameters.style.set_table_attributes('style=\"font-size: 12px\"').set_caption(\n",
    "    \"Pastas-Exponential\"\n",
    ")"
   ]
  },
  {
   "cell_type": "markdown",
   "metadata": {},
   "source": [
    "Compare parameters from the Pastas-Modflow model to the \"true\" parameters derived from\n",
    "the Pastas exponential model."
   ]
  },
  {
   "cell_type": "code",
   "execution_count": null,
   "metadata": {},
   "outputs": [],
   "source": [
    "comparison = pd.DataFrame(\n",
    "    {\n",
    "        \"True\": mlexpmf.parameters[\"initial\"].values,\n",
    "        \"MF6\": ml.parameters[\"optimal\"].values,\n",
    "    },\n",
    "    index=ml.parameters.index,\n",
    ")\n",
    "comparison[\"Difference\"] = comparison[\"MF6\"] - comparison[\"True\"]\n",
    "comparison[\"% Difference\"] = (comparison[\"Difference\"] / comparison[\"True\"]) * 100\n",
    "comparison.style.format(precision=2)"
   ]
  },
  {
   "cell_type": "markdown",
   "metadata": {},
   "source": [
    "### Plots\n",
    "\n",
    "Compare the Pastas-Modflow simulation to the Pastas-Exponential simulation."
   ]
  },
  {
   "cell_type": "code",
   "execution_count": null,
   "metadata": {},
   "outputs": [],
   "source": [
    "ax = ml.plot()  # Pastas-Modflow\n",
    "mlexp.plot(ax=ax);  # Pastas-Exponential"
   ]
  }
 ],
 "metadata": {
  "kernelspec": {
   "display_name": "Python 3 (ipykernel)",
   "language": "python",
   "name": "python3"
  },
  "language_info": {
   "codemirror_mode": {
    "name": "ipython",
    "version": 3
   },
   "file_extension": ".py",
   "mimetype": "text/x-python",
   "name": "python",
   "nbconvert_exporter": "python",
   "pygments_lexer": "ipython3",
   "version": "3.10.13"
  }
 },
 "nbformat": 4,
 "nbformat_minor": 4
}
